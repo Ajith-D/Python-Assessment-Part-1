{
 "cells": [
  {
   "cell_type": "code",
   "execution_count": 1,
   "id": "37d60001",
   "metadata": {},
   "outputs": [],
   "source": [
    "userName =['Ajith', 'Rahul', 'kiruba']\n",
    "mailId = ['aj@gmail.com', 'rah@gmail.com', 'kirub@gmail.com']\n",
    "number =  [8610401969, 8976542321, 9887098776]"
   ]
  },
  {
   "cell_type": "code",
   "execution_count": 2,
   "id": "264c6ed6",
   "metadata": {},
   "outputs": [
    {
     "data": {
      "text/plain": [
       "[]"
      ]
     },
     "execution_count": 2,
     "metadata": {},
     "output_type": "execute_result"
    }
   ],
   "source": [
    "newuser= []\n",
    "newuser"
   ]
  },
  {
   "cell_type": "code",
   "execution_count": 3,
   "id": "ee6dc965",
   "metadata": {},
   "outputs": [
    {
     "name": "stdout",
     "output_type": "stream",
     "text": [
      "Enter the Username: Praveen\n",
      "Enter the Mail ID: prav@gmail.com\n",
      "Enter the Number: 76989789890\n",
      "\n",
      "    User ID Not Defined\n",
      "    Create new acount\n",
      "    \n"
     ]
    }
   ],
   "source": [
    "User_name = input('Enter the Username: ')\n",
    "Mail_id = input('Enter the Mail ID: ')\n",
    "Number = int(input('Enter the Number: '))\n",
    "\n",
    "\n",
    "if User_name in userName and Mail_id in mailId and Number in number:\n",
    "    print('Enable signup')\n",
    "    if '@' in Mail_id and '.com' in Mail_id:\n",
    "        print('Valid user Details')\n",
    "    else:\n",
    "        print('Invalid Email address')\n",
    "else:\n",
    "    print(\"\"\"\n",
    "    User ID Not Defined\n",
    "    Create new acount\n",
    "    \"\"\")\n"
   ]
  },
  {
   "cell_type": "code",
   "execution_count": 4,
   "id": "b5b1b22a",
   "metadata": {},
   "outputs": [
    {
     "name": "stdout",
     "output_type": "stream",
     "text": [
      "Do you want to create new account? yes\n",
      "Enter The Name: Praveen\n",
      "Enter the Mail id: praveen@gmail.com\n",
      "Enter the number: 6799890009\n",
      "Valid Username\n",
      "Valid Email address \n",
      "Valid number\n",
      "your Account detials are: ['Praveen', 'praveen@gmail.com', 6799890009]\n"
     ]
    }
   ],
   "source": [
    "response = input('Do you want to create new account? ')\n",
    "\n",
    "if response == 'yes':\n",
    "    \n",
    "    NewUser_name = input('Enter The Name: ')\n",
    "    New_mailid = input('Enter the Mail id: ')\n",
    "    New_number = int(input('Enter the number: '))\n",
    "    \n",
    "    if NewUser_name in userName:\n",
    "        print('Username already exist')\n",
    "    else:\n",
    "        print('Valid Username')\n",
    "        \n",
    "    if New_mailid in mailId:\n",
    "        print('Email address already exist')\n",
    "    else:\n",
    "        print('Valid Email address ')\n",
    "        \n",
    "    if New_number in number:\n",
    "        print('Number Already exist')\n",
    "    else:\n",
    "        print('Valid number')\n",
    "       \n",
    "    \n",
    "    if NewUser_name not in userName and New_mailid not in mailId and New_number not in number:\n",
    "        \n",
    "        newuser.append(NewUser_name)\n",
    "        newuser.append(New_mailid)\n",
    "        newuser.append(New_number)\n",
    "           \n",
    "    \n",
    "    print(f'your Account detials are: {newuser}')\n",
    "    \n",
    "    \n",
    "else:\n",
    "    print('Ok, Have a nice day')"
   ]
  },
  {
   "cell_type": "markdown",
   "id": "18a95bf4",
   "metadata": {},
   "source": [
    "## Or\n"
   ]
  },
  {
   "cell_type": "code",
   "execution_count": 1,
   "id": "8c292721",
   "metadata": {},
   "outputs": [
    {
     "name": "stdout",
     "output_type": "stream",
     "text": [
      "Enter the mail id: aj@gmail.com\n"
     ]
    }
   ],
   "source": [
    "Mail = input('Enter the mail id: ')"
   ]
  },
  {
   "cell_type": "code",
   "execution_count": 2,
   "id": "fa460f87",
   "metadata": {},
   "outputs": [
    {
     "name": "stdout",
     "output_type": "stream",
     "text": [
      "Valid mail address\n"
     ]
    }
   ],
   "source": [
    "if '@' in Mail and '.com' in Mail:\n",
    "    print('Valid mail address')\n",
    "else:\n",
    "    print('Invalid Mail address')"
   ]
  },
  {
   "cell_type": "code",
   "execution_count": 3,
   "id": "63f8a60e",
   "metadata": {},
   "outputs": [
    {
     "name": "stdout",
     "output_type": "stream",
     "text": [
      "Enter the Number: 878765534\n"
     ]
    }
   ],
   "source": [
    "number = input('Enter the Number: ')"
   ]
  },
  {
   "cell_type": "code",
   "execution_count": 4,
   "id": "8a623624",
   "metadata": {},
   "outputs": [
    {
     "name": "stdout",
     "output_type": "stream",
     "text": [
      "Valid Mobile Number\n"
     ]
    }
   ],
   "source": [
    "for char in number:\n",
    "    if char not in '0123456789':\n",
    "        print('Invalid Mobile Number')\n",
    "else:\n",
    "    print('Valid Mobile Number')"
   ]
  },
  {
   "cell_type": "code",
   "execution_count": 92,
   "id": "08d3a785",
   "metadata": {},
   "outputs": [
    {
     "data": {
      "text/plain": [
       "[]"
      ]
     },
     "execution_count": 92,
     "metadata": {},
     "output_type": "execute_result"
    }
   ],
   "source": [
    "users = []\n",
    "users"
   ]
  },
  {
   "cell_type": "code",
   "execution_count": 93,
   "id": "f50975f0",
   "metadata": {},
   "outputs": [
    {
     "name": "stdout",
     "output_type": "stream",
     "text": [
      "Enter the name:Ajith\n",
      "Enter the mail id: aj@gmail.com\n",
      "Enter the mobile number: 6768768768\n"
     ]
    }
   ],
   "source": [
    "username = input('Enter the name:')\n",
    "mail = input('Enter the mail id: ')\n",
    "number = input('Enter the mobile number: ')"
   ]
  },
  {
   "cell_type": "code",
   "execution_count": 94,
   "id": "e5b6c88d",
   "metadata": {},
   "outputs": [],
   "source": [
    "user = {\n",
    "    'userName' : username,\n",
    "    'mail' : mail,\n",
    "    'number' : number,\n",
    "}"
   ]
  },
  {
   "cell_type": "code",
   "execution_count": 79,
   "id": "f1b4c859",
   "metadata": {
    "scrolled": true
   },
   "outputs": [
    {
     "name": "stdout",
     "output_type": "stream",
     "text": [
      "Username already exists\n"
     ]
    }
   ],
   "source": [
    "for person in users:\n",
    "    if person['userName'] == user['userName']:\n",
    "         print('Username already exists') \n",
    "else:\n",
    "    users.append(user)"
   ]
  },
  {
   "cell_type": "code",
   "execution_count": 78,
   "id": "9407cdaa",
   "metadata": {},
   "outputs": [
    {
     "data": {
      "text/plain": [
       "[{'userName': 'ajith', 'mail': 'aj@gmail.com', 'number': '7897987897'}]"
      ]
     },
     "execution_count": 78,
     "metadata": {},
     "output_type": "execute_result"
    }
   ],
   "source": [
    "users"
   ]
  },
  {
   "cell_type": "code",
   "execution_count": null,
   "id": "3e37a3b2",
   "metadata": {},
   "outputs": [],
   "source": []
  }
 ],
 "metadata": {
  "kernelspec": {
   "display_name": "Python 3 (ipykernel)",
   "language": "python",
   "name": "python3"
  },
  "language_info": {
   "codemirror_mode": {
    "name": "ipython",
    "version": 3
   },
   "file_extension": ".py",
   "mimetype": "text/x-python",
   "name": "python",
   "nbconvert_exporter": "python",
   "pygments_lexer": "ipython3",
   "version": "3.10.9"
  }
 },
 "nbformat": 4,
 "nbformat_minor": 5
}
